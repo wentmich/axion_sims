{
 "cells": [
  {
   "cell_type": "code",
   "execution_count": 11,
   "metadata": {},
   "outputs": [],
   "source": [
    "\"\"\"\n",
    "Gets the halo mass function from the \"out_N.list\" files.\n",
    "\"\"\"\n",
    "import numpy as np\n",
    "import matplotlib.pyplot as plt\n",
    "\n",
    "total_particle_number = 1.0e8\n",
    "PMass = 32051887299076.293 / 1.989e33 # Solar masses\n",
    "Mtot = PMass * total_particle_number # solar masses\n",
    "\n",
    "def load_halo_out_data(PATH, num):\n",
    "# loads in the data from \"PATH + out_(num).list\" to get the halo id list and the number of particles in each\n",
    "# of the halos. Converts the particle number into a halo mass in solar masses. Returns arrays for the number\n",
    "# of particles and for the masses of the halos.\n",
    "    full_halo_data = np.loadtxt(PATH + 'out_' + str(num) + '.list',\n",
    "                                delimiter=' ', dtype=float, comments='#')\n",
    "    int_id = full_halo_data[:, 1]\n",
    "    NPart = full_halo_data[:, 7]\n",
    "    i = 0\n",
    "    sub_count = 0\n",
    "    while i < len(NPart):\n",
    "        if NPart[i] == 0.0:\n",
    "            NPart = np.delete(NPart, i)\n",
    "        else:\n",
    "            i += 1\n",
    "        \n",
    "    HMass = PMass * NPart\n",
    "    return NPart, HMass;\n",
    "\n",
    "def make_histogram(array, Nbins):\n",
    "# histograms the data from \"array\" into \"Nbins\" bins spaced evenly in log space\n",
    "    hist, bins = np.histogram(array, bins=np.logspace(np.log10(np.min(array)),\n",
    "                            np.log10(np.max(array)),Nbins))\n",
    "    return hist, bins;\n",
    "\n",
    "def hmf(hist, bins):\n",
    "# takes in a histogram and bin locations to make a halo mass function (dn_dlogM or df_dlogM). Calculates the\n",
    "# errors in these quantities by calculating the error in the number of counts per histogram bin and the \n",
    "# propagating to the related quantities\n",
    "    masses    = np.zeros(np.shape(hist))\n",
    "    dn_dlogM  = np.zeros(np.shape(hist))\n",
    "    df_dlogM  = np.zeros(np.shape(hist))\n",
    "    errors_dn = np.zeros(np.shape(hist))\n",
    "    errors_df = np.zeros(np.shape(hist))\n",
    "    \n",
    "    for i in range(len(hist)):\n",
    "        # since bins are evenly placed in log space, only need one dlogM\n",
    "        dlogM = (np.log10(bins[i+1]) - np.log10(bins[i]))\n",
    "        dn_dlogM[i] = hist[i] / dlogM\n",
    "        # define the mass locations to be the midpoints between bins\n",
    "        masses[i] = 0.5 * (bins[i+1] + bins[i])\n",
    "        df_dlogM[i] = masses[i] * dn_dlogM[i] / Mtot\n",
    "        errors_dn[i] = np.sqrt(hist[i]) / dlogM\n",
    "        errors_df[i] = masses[i] * errors_dn[i] / Mtot\n",
    "    \n",
    "    return masses, dn_dlogM, errors_dn, df_dlogM, errors_df;\n",
    "\n",
    "def plot_hmf(PATH, num, z):\n",
    "    NPart, HMass = load_halo_out_data(PATH, num)\n",
    "    hist, bins = make_histogram(HMass, 50)\n",
    "    masses, dn_dlogM, errors_dn, df_dlogM, errors_df = hmf(hist, bins)\n",
    "    if num == 26:\n",
    "        plt.errorbar(masses[:], df_dlogM[:], yerr=errors_df[:], fmt='o', capsize=5, label='z = %.1f' % z)\n",
    "    else:\n",
    "        plt.errorbar(masses, df_dlogM, yerr=errors_df, fmt='o', capsize=5, label='z = %.1f' % z)\n",
    "    return;"
   ]
  },
  {
   "cell_type": "code",
   "execution_count": 12,
   "metadata": {},
   "outputs": [],
   "source": [
    "# get the list of a values output by gadget given the initial a value and the timestep value\n",
    "a_list = []\n",
    "a_list.append(0.0001)\n",
    "\n",
    "a = a_list[0]\n",
    "while a <= 0.01:\n",
    "    a_list.append(a * 1.1)\n",
    "    a = a_list[-1]"
   ]
  },
  {
   "cell_type": "code",
   "execution_count": 14,
   "metadata": {},
   "outputs": [
    {
     "name": "stdout",
     "output_type": "stream",
     "text": [
      "Analyzing scale factor: a = 0.0014420993610649957\n",
      "Analyzing scale factor: a = 0.007289048368510333\n"
     ]
    },
    {
     "data": {
      "image/png": "[encoded data removed]",
      "text/plain": [
       "<Figure size 720x504 with 1 Axes>"
      ]
     },
     "metadata": {
      "needs_background": "light"
     },
     "output_type": "display_data"
    }
   ],
   "source": [
    "PMass = 32051887299076.293 / 1.989e33\n",
    "PATH = '/scratch/bsafdi_root/bsafdi/wentmich/halos/'\n",
    "num_list = [28, 45] # N values for out_N.list files to analyze\n",
    "\n",
    "plt.figure(figsize=(10, 7))\n",
    "\n",
    "for i in num_list:\n",
    "    print('Analyzing scale factor: a = ' + str(a_list[i]))\n",
    "    NPart, HMass = load_halo_out_data(PATH, i)\n",
    "    hist, bins = make_histogram(HMass, 20)\n",
    "    masses, dn_dlogM, errors_dn, df_dlogM, errors_df = hmf(hist, bins)\n",
    "    plt.errorbar(masses, df_dlogM, yerr=errors_df, fmt='o', capsize=5, label='z = %.01f' % (1 / a_list[i] - 1))\n",
    "    \n",
    "plt.yscale('log')\n",
    "plt.xscale('log')\n",
    "plt.xlabel(r'Halo Mass ($M_{\\odot}$)', fontsize=16, fontname='serif')\n",
    "plt.ylabel(r'df / dlog(M)', fontsize=16, fontname='serif')\n",
    "plt.title(r'Evolution of Halo Mass Function', fontsize=16, fontname='serif')\n",
    "plt.legend(fontsize=16)\n",
    "plt.savefig('halo_mass_function.png', dpi=1000)\n",
    "plt.show()"
   ]
  }
 ],
 "metadata": {
  "kernelspec": {
   "display_name": "Python 3",
   "language": "python",
   "name": "python3"
  },
  "language_info": {
   "codemirror_mode": {
    "name": "ipython",
    "version": 3
   },
   "file_extension": ".py",
   "mimetype": "text/x-python",
   "name": "python",
   "nbconvert_exporter": "python",
   "pygments_lexer": "ipython3",
   "version": "3.7.3"
  }
 },
 "nbformat": 4,
 "nbformat_minor": 2
}
