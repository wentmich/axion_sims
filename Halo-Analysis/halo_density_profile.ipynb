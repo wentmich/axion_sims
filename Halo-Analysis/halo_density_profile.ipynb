{
 "cells": [
  {
   "cell_type": "code",
   "execution_count": 1,
   "metadata": {},
   "outputs": [],
   "source": [
    "import numpy as np\n",
    "import matplotlib.pyplot as plt\n",
    "from mpl_toolkits.mplot3d import Axes3D\n",
    "import scipy.optimize as opt\n",
    "import scipy.integrate as integrate\n",
    "import sys\n",
    "import scipy.stats\n",
    "from iminuit import Minuit\n",
    "import scipy.constants as scon\n",
    "\n",
    "MassPerPart = 2.0975e+15 / 1.989e33 # solar masses\n",
    "\n",
    "H = 1.8359e-18 # 1 / s\n",
    "G = 6.672e-8 * (3.24078e-25)**3 * (1.989e-33)**(-1)\n",
    "rhoc = 352378606838.5861#140.0e9#3 * H * H / (8 * np.pi * G) # M_sun / Mpc^3\n",
    "\n",
    "\"\"\"\n",
    "Functions used to load in the data and prepare the halos for analysis\n",
    "\"\"\";\n",
    "def load_data(PATH, time_step, num_files):\n",
    "# loads in the data from the .particle and .ascii files and concatenates \"num_files\" of these files into arrays\n",
    "# that can be read as the data from a single file\n",
    "    for i in range(num_files):\n",
    "        print('Loading File ' + str(i))\n",
    "        if i == 0:\n",
    "            particle_data=np.loadtxt(PATH + 'halos_' + str(time_step) + '.' +\\\n",
    "                                     str(i) + '.particles',\n",
    "                                     dtype=float, delimiter=' ', comments=['#', '&'])\n",
    "            ascii_data   =np.loadtxt(PATH + 'halos_' + str(time_step) + '.' + str(i) + '.ascii',\n",
    "                                     dtype=float, delimiter=' ', comments='#')\n",
    "        else:\n",
    "            particle_data_new = np.loadtxt(PATH + 'halos_' + str(time_step) +\\\n",
    "                                           '.' + str(i) + '.particles',\n",
    "                                           dtype=float, delimiter=' ', comments=['#', '&'])\n",
    "            ascii_data_new    = np.loadtxt(PATH + 'halos_' + str(time_step) +\\\n",
    "                                           '.' + str(i) + '.ascii',\n",
    "                                           dtype=float, delimiter=' ', comments='#')\n",
    "            particle_data = np.concatenate((particle_data, particle_data_new), axis=0)\n",
    "            ascii_data    = np.concatenate((ascii_data, ascii_data_new), axis=0)\n",
    "\n",
    "    print(\"Data Loaded...\")\n",
    "    return particle_data, ascii_data;\n",
    "\n",
    "\"\"\"\n",
    "Functions used to calculate the halo density profile\n",
    "\"\"\";\n",
    "def parse_halos(ascii_data):\n",
    "# gets the number of particles in each halo so that when you read in the particle data, you know when to \n",
    "# start and stop when looking at particles for a specific halo\n",
    "    halo_nums = ascii_data[:, 1]\n",
    "    halo_breaks = np.empty(np.size(halo_nums) + 1)\n",
    "    for i in range(np.size(halo_breaks)):\n",
    "        halo_breaks[i] = np.sum(halo_nums[:i])\n",
    "    return halo_breaks;\n",
    "\n",
    "def get_halo_position(particle_positions):\n",
    "# gets the position of the halo by finding the center of mass of the halo assuming each\n",
    "# particle has the same mass\n",
    "    x = np.mean(particle_positions[:, 0])\n",
    "    y = np.mean(particle_positions[:, 1])\n",
    "    z = np.mean(particle_positions[:, 2])\n",
    "    return np.array([x, y, z]);\n",
    "    \n",
    "def get_separations(particle_positions, halo_position):\n",
    "# gets the radial separations of each particle from the center. This will allow for a calculation of the \n",
    "# radial density profile\n",
    "    separations = np.zeros(np.shape(particle_positions)[0])\n",
    "    for i in range(np.shape(particle_positions)[0]):\n",
    "        separations[i] = np.linalg.norm(particle_positions[i, :] - halo_position)\n",
    "    return separations;\n",
    "\n",
    "def get_density_profile(particle_data, ascii_data, halo_breaks, halo_id, N):\n",
    "# finds the density profile of the halo with id \"halo_id\". The density profile is a histogram of particles with N\n",
    "# bins of radial separation.\n",
    "    # get data for the halo you chose\n",
    "    break1 = int(halo_breaks[halo_id])\n",
    "    break2 = int(halo_breaks[halo_id + 1])\n",
    "    halo_particles = particle_data[break1:break2, 0:3]\n",
    "    halo_position  = get_halo_position(halo_particles)\n",
    "    displacements  = get_separations(halo_particles, halo_position)\n",
    "    if len(displacements) == 0:\n",
    "        return np.zeros(N), np.zeros(N), 0.0, 0.0, 0.0;\n",
    "    radius = np.max(displacements)\n",
    "    half_mass_radius = ascii_data[halo_id, 48]\n",
    "    \n",
    "    fractions = np.linspace(0.22, 1.0, N)\n",
    "    radial_fractions = fractions * radius \n",
    "    # gives an array of 10%, 20%, ..., 90%, 100% of the halo radius\n",
    "    radial_counts = np.zeros(N)\n",
    "    for i in range(0, N):\n",
    "        counts = 0\n",
    "        for j in range(len(displacements)):\n",
    "            if displacements[j] <= radial_fractions[i]:\n",
    "                counts += 1\n",
    "        radial_counts[i] = counts\n",
    "    density = radial_counts * MassPerPart / (4 * np.pi * radial_fractions**3 / 3)\n",
    "    std_density = np.sqrt(radial_counts) * MassPerPart / (4 * np.pi * radial_fractions**3 / 3)\n",
    "    normalized_counts = radial_counts / len(displacements)\n",
    "    \n",
    "    return radial_fractions, density, radial_counts, radius, std_density;\n",
    "\n",
    "def plot_density_profile(radial_fractions, density, radius, std_density):\n",
    "# plots the density profile along with fits to the density profile to an nfw density profile\n",
    "    ics_nfw = np.array([radius, np.mean(density)])\n",
    "    popt_nfw, pcov_nfw = opt.curve_fit(model_nfw, radial_fractions,\n",
    "                                       density, p0=ics_nfw, sigma=std_density)\n",
    "    radial_fit = np.linspace(np.min(radial_fractions), np.max(radial_fractions), 1000)\n",
    "    nfw_fit = model_nfw(radial_fit, popt_nfw[0], popt_nfw[1])\n",
    "    \n",
    "    params = {'legend.fontsize': 14,\n",
    "              'legend.shadow': False}\n",
    "    plt.rcParams.update(params)\n",
    "    plt.figure(figsize=(10,7))\n",
    "    plt.errorbar(radial_fractions, density, fmt='o', yerr=std_density, label='Simulation')\n",
    "    plt.plot(radial_fit, nfw_fit, '-', label='NFW Fit')\n",
    "    plt.xlabel('Radius (Mpc)', fontsize=16, fontname='serif')\n",
    "    plt.ylabel(r'Density (M$_{\\odot}$ / Mpc$^3$)', fontsize=16, fontname='serif')\n",
    "    plt.title(r'Radial Density Profile',\n",
    "              fontsize=16, fontname='serif')\n",
    "    plt.yscale('log')\n",
    "    plt.xscale('log')\n",
    "    plt.legend()\n",
    "    plt.show()\n",
    "    return;\n",
    "\n",
    "\"\"\"\n",
    "Functions used to fit halos to an NFW profile\n",
    "\"\"\";\n",
    "def get_largest_halos(ascii_data, num_sigma):\n",
    "# finds all of the halos that have a total number of particles \"num_sigma\" standard deviations above the mean\n",
    "# number of particles\n",
    "    largest_halos = []\n",
    "    for i in range(int(np.shape(ascii_data)[0])):\n",
    "        if ascii_data[i, 1] >= np.mean(ascii_data[:, 1]) + num_sigma * np.std(ascii_data[:, 1]):\n",
    "            largest_halos.append(i)\n",
    "    return largest_halos;\n",
    "\n",
    "def model_nfw(r, m200, c200):\n",
    "# the model equation for an nfw profile\n",
    "    r200 = (3 * m200 / (800 * np.pi * rhoc))**(int(1 / 3))\n",
    "    t1 = 4 * np.pi * (np.log(1 + c200) - c200 / (1 + c200))\n",
    "    t2 = r * (r200 / c200 + r)**2\n",
    "    return m200 / (t1 * t2);\n",
    "\n",
    "def get_mass(R, m200, c200):\n",
    "    r200 = (3 * m200 / (800 * np.pi * rhoc))**(1 / 3)\n",
    "    t1 = m200 / (np.log(1 + c200) - c200 / (1 + c200))\n",
    "    t2 = (r200 / c200) / (r200 / c200 + R) + np.log(r200 / c200 + R)\n",
    "    t3 = -1 - np.log(r200 / c200)\n",
    "    return t1 * (t2 + t3);\n",
    "\n",
    "def log_likelihood(m, c, obs_counts, obs_radii):\n",
    "    exp_mass = get_mass(obs_radii, m, c)\n",
    "    exp_counts = exp_mass / MassPerPart\n",
    "    likelihood = 0\n",
    "    for i in range(np.size(exp_counts)):\n",
    "        #print(scipy.stats.poisson.logpmf(int(obs_counts[i]), exp_counts[i]))\n",
    "        likelihood -= scipy.stats.poisson.logpmf(int(obs_counts[i]), exp_counts[i])\n",
    "    #print(likelihood)\n",
    "    return likelihood;\n",
    "\n",
    "def least_squares(m, c, obs_density, obs_radii):\n",
    "    exp_density = model_nfw(obs_radii, m, c)\n",
    "    residual = 0\n",
    "    for i in range(np.size(exp_density)):\n",
    "        residual += (obs_density[i] - exp_density[i])**2\n",
    "    #print(residual)\n",
    "    return residual;\n",
    "\n",
    "def fit_profile_to_nfw(raw_radii, raw_counts):\n",
    "# supposed to fit to an nfw profile by minimizing the log liklihood. Not doing that currently\n",
    "    initial_guess = [1.0e-14, 10.0]\n",
    "    bnds = ((MassPerPart, None), (1e1, None))\n",
    "    \n",
    "    func_to_minimize = lambda p: log_likelihood(p[0], p[1], raw_counts, raw_radii)\n",
    "    \n",
    "    result = opt.minimize(func_to_minimize, initial_guess, method='Nelder-Mead', bounds=bnds,\n",
    "                         options = {'fatol': 0.00000001})\n",
    "    \n",
    "    m200 = result.x[0]\n",
    "    c200 = result.x[1]\n",
    "    \n",
    "    print(initial_guess)\n",
    "    print(m200, c200)\n",
    "    \n",
    "    return m200, c200;\n",
    "\n",
    "def fit_profile_to_nfw_og(raw_radii, density):\n",
    "    popt, _ = opt.curve_fit(model_nfw, radial_fractions, density, maxfev=50000,\n",
    "                            p0=np.array([1.0e-12, 1.0e3]), bounds=((MassPerPart, None), (1.0, None)))\n",
    "    return popt[0], popt[1];\n",
    "\n",
    "def plot_likelihood(raw_radii, raw_counts):\n",
    "# supposed to fit to an nfw profile by minimizing the log liklihood. Not doing that currently\n",
    "    N = 1000\n",
    "    c_vals = np.linspace(1.0, 200.0, N)\n",
    "    likelihood_vals = np.zeros(np.shape(c_vals))\n",
    "    for i in range(np.size(c_vals)):\n",
    "        likelihood_vals[i] = log_likelihood(MassPerPart * raw_counts[-1], c_vals[i], raw_counts, raw_radii)\n",
    "\n",
    "    plt.plot(c_vals, likelihood_vals, '-')\n",
    "    plt.yscale('log')\n",
    "    plt.show()\n",
    "    return;\n",
    "\n",
    "\"\"\"\n",
    "Functions used get M and c plot\n",
    "\"\"\";\n",
    "def get_halo_radius(particle_data, ascii_data, halo_breaks, halo_id):\n",
    "    break1 = int(halo_breaks[halo_id])\n",
    "    break2 = int(halo_breaks[halo_id + 1])\n",
    "    halo_particles = particle_data[break1:break2, 0:3]\n",
    "    halo_position = get_halo_position(halo_particles)\n",
    "    separations = get_separations(halo_particles, halo_position)\n",
    "    return max(separations);\n",
    "\n",
    "def get_c(rs, r200):\n",
    "    return r200 / rs;"
   ]
  },
  {
   "cell_type": "code",
   "execution_count": null,
   "metadata": {
    "scrolled": true
   },
   "outputs": [
    {
     "name": "stdout",
     "output_type": "stream",
     "text": [
      "Loading File 0\n",
      "Loading File 1\n",
      "Loading File 2\n",
      "Loading File 3\n",
      "Loading File 4\n",
      "Loading File 5\n",
      "Loading File 6\n"
     ]
    }
   ],
   "source": [
    "PATH = '/scratch/bsafdi_root/bsafdi/wentmich/halos/'\n",
    "#'/nfs/turbo/bsafdi/wentmich/Axion_Structure_Sims/simulations/minicluster_20.08.19/output/'\n",
    "N = 20\n",
    "NSigma = 2\n",
    "haloid = 250\n",
    "\n",
    "params = {'legend.fontsize': 14,\n",
    "          'legend.shadow': False}\n",
    "plt.rcParams.update(params)\n",
    "plt.figure(figsize=(10,7))\n",
    "\n",
    "colors = ['C0', 'C1', 'C2', 'C3', 'C4']\n",
    "\n",
    "particle_data, ascii_data = load_data(PATH, 40, 8)\n",
    "halo_breaks = parse_halos(ascii_data)"
   ]
  },
  {
   "cell_type": "code",
   "execution_count": 6,
   "metadata": {},
   "outputs": [
    {
     "name": "stdout",
     "output_type": "stream",
     "text": [
      "184373\n"
     ]
    }
   ],
   "source": [
    "#largest_halos = get_largest_halos(ascii_data, -10)\n",
    "#print(np.size(largest_halos))\n",
    "print(len(halo_breaks) - 1)"
   ]
  },
  {
   "cell_type": "code",
   "execution_count": 25,
   "metadata": {
    "scrolled": false
   },
   "outputs": [
    {
     "name": "stderr",
     "output_type": "stream",
     "text": [
      "/sw/arcts/centos7/python3.7-anaconda/2019.07/lib/python3.7/site-packages/ipykernel_launcher.py:140: RuntimeWarning: invalid value encountered in double_scalars\n"
     ]
    },
    {
     "name": "stdout",
     "output_type": "stream",
     "text": [
      "1\n"
     ]
    },
    {
     "name": "stderr",
     "output_type": "stream",
     "text": [
      "/sw/arcts/centos7/python3.7-anaconda/2019.07/lib/python3.7/site-packages/ipykernel_launcher.py:141: RuntimeWarning: invalid value encountered in log\n",
      "/sw/arcts/centos7/python3.7-anaconda/2019.07/lib/python3.7/site-packages/ipykernel_launcher.py:143: RuntimeWarning: divide by zero encountered in true_divide\n"
     ]
    },
    {
     "name": "stdout",
     "output_type": "stream",
     "text": [
      "10001\n",
      "20001\n",
      "30001\n",
      "40001\n",
      "50001\n",
      "60001\n",
      "70001\n",
      "80001\n",
      "90001\n",
      "100001\n",
      "110001\n",
      "120001\n",
      "130001\n",
      "140001\n",
      "150001\n",
      "160001\n",
      "170001\n",
      "180001\n"
     ]
    }
   ],
   "source": [
    "m200_set = []\n",
    "c200_set = []\n",
    "count = 0\n",
    "\n",
    "for j in range(len(halo_breaks) - 1):\n",
    "    radial_fractions, density, radial_counts, radius, std_density = get_density_profile(particle_data, ascii_data,\n",
    "                                                                                       halo_breaks, j, 20)\n",
    "    #print(np.shape(radial_fractions), np.shape(density), np.shape(std_density))\n",
    "    m200_opt, c200_opt = fit_profile_to_nfw_og(radial_fractions, density)\n",
    "    m200_set.append(m200_opt)\n",
    "    c200_set.append(c200_opt)\n",
    "    if count % 10000 == 1:\n",
    "        print(count)\n",
    "    count += 1"
   ]
  },
  {
   "cell_type": "code",
   "execution_count": 33,
   "metadata": {},
   "outputs": [
    {
     "name": "stdout",
     "output_type": "stream",
     "text": [
      "47254\n"
     ]
    }
   ],
   "source": [
    "#m200_set_1, c200_set_1 = np.copy(m200_set), np.copy(c200_set)\n",
    "m200_set, c200_set = np.copy(m200_set_1), np.copy(c200_set_1)\n",
    "m200_set_1, c200_set_1 = np.copy(m200_set), np.copy(c200_set)\n",
    "m200_set, c200_set = np.array(m200_set), np.array(c200_set)\n",
    "i = 0\n",
    "while i < len(c200_set):\n",
    "    if  c200_set[i] <= 1 or m200_set[i] <= 0:#or m200_set[i] >= 1.0e-10:\n",
    "        m200_set = np.delete(m200_set, i)\n",
    "        c200_set = np.delete(c200_set, i)\n",
    "    else:\n",
    "        i += 1\n",
    "\n",
    "print(len(c200_set))"
   ]
  },
  {
   "cell_type": "code",
   "execution_count": 34,
   "metadata": {},
   "outputs": [
    {
     "data": {
      "image/png": "[encoded data removed]",
      "text/plain": [
       "<Figure size 720x504 with 2 Axes>"
      ]
     },
     "metadata": {
      "needs_background": "light"
     },
     "output_type": "display_data"
    }
   ],
   "source": [
    "m200_log = np.log10(m200_set)\n",
    "c200_log = np.log10(c200_set)\n",
    "\n",
    "from matplotlib.colors import LogNorm, PowerNorm\n",
    "params = {'legend.fontsize': 14,\n",
    "          'legend.shadow': False}\n",
    "\n",
    "plt.rcParams.update(params)\n",
    "plt.figure(figsize=(10,7))\n",
    "\n",
    "plt.hist2d(c200_log, m200_log, bins=90, norm=LogNorm(), cmap='cividis')\n",
    "#plt.tick_params(labelsize=20) \n",
    "#plt.colorbar(label='Counts')\n",
    "plt.colorbar().set_label(label='Counts',size=20, fontname='serif')\n",
    "plt.title(r'M$_{200}$ C$_{200}$ Histogram z = 355', fontname='serif', fontsize=24)\n",
    "plt.ylabel(r'log$_{10}$(M$_{200}$) (M$_{\\odot}$)', fontname='serif', fontsize=24)\n",
    "plt.xlabel(r'log$_{10}$(C$_{200}$)', fontname='serif', fontsize=24)\n",
    "#plt.yscale('log')\n",
    "#plt.xscale('log')\n",
    "plt.savefig('m200_c200_z355.png', dpi=1000)\n",
    "plt.show()"
   ]
  },
  {
   "cell_type": "code",
   "execution_count": 42,
   "metadata": {},
   "outputs": [
    {
     "data": {
      "text/plain": [
       "352378606838.5861"
      ]
     },
     "execution_count": 42,
     "metadata": {},
     "output_type": "execute_result"
    }
   ],
   "source": [
    "rhoc"
   ]
  },
  {
   "cell_type": "code",
   "execution_count": 109,
   "metadata": {},
   "outputs": [
    {
     "name": "stderr",
     "output_type": "stream",
     "text": [
      "/sw/arcts/centos7/python3.7-anaconda/2019.07/lib/python3.7/site-packages/scipy/optimize/minpack.py:799: OptimizeWarning: Covariance of the parameters could not be estimated\n",
      "  category=OptimizeWarning)\n"
     ]
    }
   ],
   "source": [
    "radii = np.array([1.76845160e-10, 2.09844974e-10, 2.42844789e-10, 2.75844604e-10,\n",
    "       3.08844418e-10, 3.41844233e-10, 3.74844047e-10, 4.07843862e-10,\n",
    "       4.40843676e-10, 4.73843491e-10, 5.06843305e-10, 5.39843120e-10,\n",
    "       5.72842934e-10, 6.05842749e-10, 6.38842563e-10, 6.71842378e-10,\n",
    "       7.04842192e-10, 7.37842007e-10, 7.70841821e-10, 8.03841636e-10])\n",
    "\n",
    "density = np.array([4.76135680e+14, 3.47288853e+14, 2.51413726e+14, 1.81945807e+14,\n",
    "       1.33795073e+14, 1.00747346e+14, 7.73115110e+13, 6.04010471e+13,\n",
    "       4.79268286e+13, 3.86349374e+13, 3.16175572e+13, 2.62241741e+13,\n",
    "       2.20017178e+13, 1.86236472e+13, 1.58879747e+13, 1.36648927e+13,\n",
    "       1.18591952e+13, 1.03437416e+13, 9.07190093e+12, 8.00034888e+12])\n",
    "\n",
    "#m200_opt, c200_opt = fit_profile_to_nfw_og(radii, density, p0=np.array([2e-12, 1.0e10]))\n",
    "popt, _ = opt.curve_fit(model_nfw, radii, density, [2e-13, 1e1])\n",
    "m200_opt, c200_opt = popt[0], popt[1]"
   ]
  },
  {
   "cell_type": "code",
   "execution_count": 110,
   "metadata": {},
   "outputs": [
    {
     "name": "stdout",
     "output_type": "stream",
     "text": [
      "352378606838.5861\n",
      "2e-13 10.0\n"
     ]
    }
   ],
   "source": [
    "print(rhoc)\n",
    "print(m200_opt, c200_opt)"
   ]
  },
  {
   "cell_type": "code",
   "execution_count": 111,
   "metadata": {},
   "outputs": [
    {
     "data": {
      "image/png": "[encoded data removed]",
      "text/plain": [
       "<Figure size 432x288 with 1 Axes>"
      ]
     },
     "metadata": {
      "needs_background": "light"
     },
     "output_type": "display_data"
    }
   ],
   "source": [
    "plt.plot(radii, density, 'o')\n",
    "plt.plot(radii, model_nfw(radii, m200_opt, c200_opt))\n",
    "plt.plot(radii, model_nfw(radii, 2e-13, 10))\n",
    "#plt.xscale('log')\n",
    "plt.yscale('log')\n",
    "plt.show()"
   ]
  },
  {
   "cell_type": "code",
   "execution_count": 98,
   "metadata": {},
   "outputs": [
    {
     "name": "stdout",
     "output_type": "stream",
     "text": [
      "352378606838.5861\n",
      "352378606838.5861\n"
     ]
    }
   ],
   "source": [
    "print(352378606838.5861)\n",
    "print(rhoc)"
   ]
  },
  {
   "cell_type": "code",
   "execution_count": null,
   "metadata": {},
   "outputs": [],
   "source": []
  }
 ],
 "metadata": {
  "kernelspec": {
   "display_name": "Python 3",
   "language": "python",
   "name": "python3"
  },
  "language_info": {
   "codemirror_mode": {
    "name": "ipython",
    "version": 3
   },
   "file_extension": ".py",
   "mimetype": "text/x-python",
   "name": "python",
   "nbconvert_exporter": "python",
   "pygments_lexer": "ipython3",
   "version": "3.7.3"
  }
 },
 "nbformat": 4,
 "nbformat_minor": 2
}
