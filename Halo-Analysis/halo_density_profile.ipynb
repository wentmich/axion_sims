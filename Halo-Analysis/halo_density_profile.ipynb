{
 "cells": [
  {
   "cell_type": "code",
   "execution_count": 7,
   "metadata": {},
   "outputs": [],
   "source": [
    "import numpy as np\n",
    "import matplotlib.pyplot as plt\n",
    "from mpl_toolkits.mplot3d import Axes3D\n",
    "import scipy.optimize as opt\n",
    "import sys\n",
    "\n",
    "MassPerPart = 2.60809383837199e-20 # solar masses\n",
    "\n",
    "def load_data(PATH, time_step, num_files):\n",
    "    for i in range(num_files):\n",
    "        print('Loading File ' + str(i))\n",
    "        if i == 0:\n",
    "            particle_data=np.loadtxt(PATH + 'halos_' + str(time_step) + '.' +\\\n",
    "                                     str(i) + '.particles',\n",
    "                                     dtype=float, delimiter=' ', comments=['#', '&'])\n",
    "            ascii_data   =np.loadtxt(PATH + 'halos_' + str(time_step) + '.' + str(i) + '.ascii',\n",
    "                                     dtype=float, delimiter=' ', comments='#')\n",
    "        else:\n",
    "            particle_data_new = np.loadtxt(PATH + 'halos_' + str(time_step) +\\\n",
    "                                           '.' + str(i) + '.particles',\n",
    "                                           dtype=float, delimiter=' ', comments=['#', '&'])\n",
    "            ascii_data_new    = np.loadtxt(PATH + 'halos_' + str(time_step) +\\\n",
    "                                           '.' + str(i) + '.ascii',\n",
    "                                           dtype=float, delimiter=' ', comments='#')\n",
    "            particle_data = np.concatenate((particle_data, particle_data_new), axis=0)\n",
    "            ascii_data    = np.concatenate((ascii_data, ascii_data_new), axis=0)\n",
    "\n",
    "    print(\"Data Loaded...\")\n",
    "    return particle_data, ascii_data;\n",
    "\n",
    "def parse_halos(ascii_data):\n",
    "    halo_nums = ascii_data[:, 1]\n",
    "    halo_breaks = np.empty(np.size(halo_nums) + 1)\n",
    "    for i in range(np.size(halo_breaks)):\n",
    "        halo_breaks[i] = np.sum(halo_nums[:i])\n",
    "    return halo_breaks;\n",
    "\n",
    "def get_halo_position(particle_positions):\n",
    "    x = np.mean(particle_positions[:, 0])\n",
    "    y = np.mean(particle_positions[:, 1])\n",
    "    z = np.mean(particle_positions[:, 2])\n",
    "    return np.array([x, y, z]);\n",
    "    \n",
    "def get_separations(particle_positions, halo_position):\n",
    "    separations = np.zeros(np.shape(particle_positions)[0])\n",
    "    for i in range(np.shape(particle_positions)[0]):\n",
    "        separations[i] = np.linalg.norm(particle_positions[i, :] - halo_position)\n",
    "    return separations;\n",
    "\n",
    "def get_viable_halos(ascii_data, num_sigma):\n",
    "    viable_halos = []\n",
    "    for i in range(int(np.shape(ascii_data)[0])):\n",
    "        if ascii_data[i, 1] >= np.mean(ascii_data[:, 1]) + num_sigma * np.std(ascii_data[:, 1]):\n",
    "            viable_halos.append(i)\n",
    "    return viable_halos;\n",
    "\n",
    "def model_nfw(r, Rs, rho_0):\n",
    "    return rho_0 / ((r / Rs) * (1 + (r / Rs))**2);\n",
    "\n",
    "def model_einasto(r, Rc, rho_e, n):\n",
    "    return rho_e * np.exp(- 2 * n * ((r / Rc)**(1 / n) - 1));\n",
    "\n",
    "def get_density_profile(particle_data, ascii_data, halo_breaks, halo_id, N):\n",
    "    # get data for the halo you chose\n",
    "    break1 = int(halo_breaks[halo_id])\n",
    "    break2 = int(halo_breaks[halo_id + 1])\n",
    "    halo_particles = particle_data[break1:break2, 0:3]\n",
    "    halo_position  = get_halo_position(halo_particles)\n",
    "    displacements  = get_separations(halo_particles, halo_position)\n",
    "    if len(displacements) == 0:\n",
    "        return np.zeros(N), np.zeros(N), 0.0, 0.0, 0.0;\n",
    "    radius = np.max(displacements)\n",
    "    half_mass_radius = ascii_data[halo_id, 48]\n",
    "    \n",
    "    fractions = np.linspace(0.22, 1.0, N)\n",
    "    radial_fractions = fractions * radius \n",
    "    # gives an array of 10%, 20%, ..., 90%, 100% of the halo radius\n",
    "    radial_counts = np.zeros(N)\n",
    "    for i in range(0, N):\n",
    "        counts = 0\n",
    "        for j in range(len(displacements)):\n",
    "            if displacements[j] <= radial_fractions[i]:\n",
    "                counts += 1\n",
    "        radial_counts[i] = counts\n",
    "    density = radial_counts * MassPerPart / (4 * np.pi * radial_fractions**3 / 3)\n",
    "    std_density = np.sqrt(radial_counts) * MassPerPart / (4 * np.pi * radial_fractions**3 / 3)\n",
    "    normalized_counts = radial_counts / len(displacements)\n",
    "    \n",
    "    return radial_fractions, density, radius, std_density;\n",
    "\n",
    "def get_norm_density_profile(particle_data, ascii_data, halo_breaks, halo_id, N):\n",
    "    # get data for the halo you chose\n",
    "    break1 = int(halo_breaks[halo_id])\n",
    "    break2 = int(halo_breaks[halo_id + 1])\n",
    "    halo_particles = particle_data[break1:break2, 0:3]\n",
    "    halo_position  = get_halo_position(halo_particles)\n",
    "    displacements  = get_separations(halo_particles, halo_position)\n",
    "    if len(displacements) == 0:\n",
    "        return np.zeros(N), np.zeros(N);\n",
    "    radius = np.max(displacements)\n",
    "    half_mass_radius = ascii_data[halo_id, 48]\n",
    "    \n",
    "    fractions = np.linspace(0.22, 1.0, N)\n",
    "    radial_counts = np.zeros(N)\n",
    "    for i in range(0, N):\n",
    "        counts = 0\n",
    "        for j in range(len(displacements)):\n",
    "            if displacements[j] <= radial_fractions[i]:\n",
    "                counts += 1\n",
    "        radial_counts[i] = counts\n",
    "    norm_radial_counts = radial_counts / len(displacements)\n",
    "    norm_density = norm_radial_counts / (4 * np.pi * fractions**3 / 3)\n",
    "    std_density = (np.sqrt(radial_counts) /\n",
    "                   (4 * np.pi * radial_fractions**3 * len(displacements)/ 3))\n",
    "    \n",
    "    return fractions, norm_density;\n",
    "\n",
    "def get_avg_density_profile(PATH, time_step, num_files):\n",
    "    particle_data, ascii_data = load_data(PATH, time_step, num_files)\n",
    "    halo_breaks = parse_halos(ascii_data)\n",
    "    N = 20\n",
    "    Nhalos = int(np.shape(ascii_data)[0])\n",
    "    total_norm_radii = np.zeros([Nhalos, N])\n",
    "    total_norm_density = np.zeros([Nhalos, N])\n",
    "    \n",
    "    for i in range(Nhalos):\n",
    "        norm_radial_fractions, norm_density = get_norm_density_profile(particle_data, ascii_data, halo_breaks, i, N)\n",
    "        total_norm_radii[i, :] = norm_radial_fractions\n",
    "        total_norm_density[i, :] = norm_density\n",
    "    \n",
    "    avg_norm_radii, avg_norm_density = np.zeros(N), np.zeros(N)\n",
    "    std_norm_radii, std_norm_density = np.zeros(N), np.zeros(N)\n",
    "    for i in range(N):\n",
    "        avg_norm_radii[i] = np.mean(total_norm_radii[:, i])\n",
    "        avg_norm_density[i] = np.mean(total_norm_density[:, i])\n",
    "        std_norm_radii[i] = np.std(total_norm_radii[:, i])\n",
    "        std_norm_density[i] = np.std(total_norm_density[:, i])\n",
    "    \n",
    "    return avg_norm_radii, avg_norm_density, std_norm_radii, std_norm_density;\n",
    "\n",
    "def plot_density_profile(radial_fractions, density, radius, std_density):\n",
    "    ics_nfw = np.array([radius, np.mean(density)])\n",
    "    ics_ein = np.array([radius, np.mean(density), 1.0])\n",
    "    popt_ein, pcov_ein = opt.curve_fit(model_einasto, radial_fractions,\n",
    "                                       density, p0=ics_ein, sigma=std_density)\n",
    "    popt_nfw, pcov_nfw = opt.curve_fit(model_nfw, radial_fractions,\n",
    "                                       density, p0=ics_nfw, sigma=std_density)\n",
    "    radial_fit = np.linspace(np.min(radial_fractions), np.max(radial_fractions), 1000)\n",
    "    ein_fit = model_einasto(radial_fit, popt_ein[0], popt_ein[1], popt_ein[2])\n",
    "    nfw_fit = model_nfw(radial_fit, popt_nfw[0], popt_nfw[1])\n",
    "    \n",
    "    params = {'legend.fontsize': 14,\n",
    "              'legend.shadow': False}\n",
    "    plt.rcParams.update(params)\n",
    "    plt.figure(figsize=(10,7))\n",
    "    plt.errorbar(radial_fractions, density, fmt='o', yerr=std_density, label='Simulation')\n",
    "    #plt.plot(radial_fit, ein_fit, '-', label='Einasto Fit')\n",
    "    plt.plot(radial_fit, nfw_fit, '-', label='NFW Fit')\n",
    "    plt.xlabel('Radius (Mpc)', fontsize=16, fontname='serif')\n",
    "    plt.ylabel(r'Density (M$_{\\odot}$ / Mpc$^3$)', fontsize=16, fontname='serif')\n",
    "    plt.title(r'Radial Density Profile',\n",
    "              fontsize=16, fontname='serif')\n",
    "    plt.yscale('log')\n",
    "    plt.xscale('log')\n",
    "    plt.legend()\n",
    "    plt.show()\n",
    "    return;"
   ]
  },
  {
   "cell_type": "code",
   "execution_count": 5,
   "metadata": {},
   "outputs": [
    {
     "name": "stdout",
     "output_type": "stream",
     "text": [
      "Loading File 0\n",
      "Data Loaded...\n"
     ]
    }
   ],
   "source": [
    "PATH = '/nfs/turbo/bsafdi/wentmich/Axion_Structure_Sims/simulations/miniclusters_hires/output/'\n",
    "N = 20\n",
    "NSigma = 8\n",
    "\n",
    "particle_data, ascii_data = load_data(PATH, 26, 1)\n",
    "halo_breaks = parse_halos(ascii_data)"
   ]
  },
  {
   "cell_type": "code",
   "execution_count": 6,
   "metadata": {},
   "outputs": [
    {
     "name": "stdout",
     "output_type": "stream",
     "text": [
      "86\n"
     ]
    }
   ],
   "source": [
    "NSigma = 8\n",
    "viable_halos = get_viable_halos(ascii_data, NSigma)\n",
    "print(len(viable_halos))"
   ]
  },
  {
   "cell_type": "code",
   "execution_count": 9,
   "metadata": {
    "scrolled": false
   },
   "outputs": [
    {
     "name": "stdout",
     "output_type": "stream",
     "text": [
      "Loading File 0\n",
      "Data Loaded...\n",
      "Loading File 0\n",
      "Data Loaded...\n",
      "Loading File 0\n",
      "Data Loaded...\n"
     ]
    },
    {
     "data": {
      "image/png": "[encoded data removed]",
      "text/plain": [
       "<Figure size 720x504 with 1 Axes>"
      ]
     },
     "metadata": {},
     "output_type": "display_data"
    }
   ],
   "source": [
    "PATH = '/nfs/turbo/bsafdi/wentmich/Axion_Structure_Sims/simulations/miniclusters_hires/output/'\n",
    "N = 20\n",
    "NSigma = 8\n",
    "\n",
    "params = {'legend.fontsize': 14,\n",
    "          'legend.shadow': False}\n",
    "plt.rcParams.update(params)\n",
    "plt.figure(figsize=(10,7))\n",
    "\n",
    "for i in [10, 20, 26]:\n",
    "    particle_data, ascii_data = load_data(PATH, i, 1)\n",
    "    halo_breaks = parse_halos(ascii_data)\n",
    "    radial_fractions, density, radius, std_density = get_density_profile(particle_data, ascii_data, halo_breaks, 99, 20)\n",
    "    ics_nfw = np.array([radius, np.mean(density)])\n",
    "    popt_nfw, pcov_nfw = opt.curve_fit(model_nfw, radial_fractions,\n",
    "                                       density, p0=ics_nfw, sigma=std_density)\n",
    "    radial_fit = np.linspace(np.min(radial_fractions), np.max(radial_fractions), 1000)\n",
    "    nfw_fit = model_nfw(radial_fit, popt_nfw[0], popt_nfw[1])\n",
    "    plt.errorbar(radial_fractions, density, fmt='o', yerr=std_density, label=str(i))\n",
    "    \n",
    "plt.xlabel('Radius (Mpc)', fontsize=16, fontname='serif')\n",
    "plt.ylabel(r'Density (M$_{\\odot}$ / Mpc$^3$)', fontsize=16, fontname='serif')\n",
    "plt.title(r'Radial Density Profile',\n",
    "          fontsize=16, fontname='serif')\n",
    "plt.yscale('log')\n",
    "plt.xscale('log')\n",
    "plt.legend()\n",
    "plt.show()"
   ]
  },
  {
   "cell_type": "code",
   "execution_count": 10,
   "metadata": {},
   "outputs": [
    {
     "name": "stdout",
     "output_type": "stream",
     "text": [
      "Loading File 0\n",
      "Data Loaded...\n",
      "Loading File 0\n",
      "Data Loaded...\n",
      "Loading File 0\n",
      "Data Loaded...\n"
     ]
    },
    {
     "data": {
      "image/png": "[encoded data removed]",
      "text/plain": [
       "<Figure size 720x504 with 1 Axes>"
      ]
     },
     "metadata": {},
     "output_type": "display_data"
    }
   ],
   "source": [
    "PATH = '/nfs/turbo/bsafdi/wentmich/Axion_Structure_Sims/simulations/miniclusters_hires/output/'\n",
    "N = 20\n",
    "NSigma = 8\n",
    "\n",
    "params = {'legend.fontsize': 14,\n",
    "          'legend.shadow': False}\n",
    "plt.rcParams.update(params)\n",
    "plt.figure(figsize=(10,7))\n",
    "\n",
    "for i in [24, 25, 26]:\n",
    "    particle_data, ascii_data = load_data(PATH, i, 1)\n",
    "    halo_breaks = parse_halos(ascii_data)\n",
    "    radial_fractions, density, radius, std_density = get_density_profile(particle_data, ascii_data, halo_breaks, 99, 20)\n",
    "    ics_nfw = np.array([radius, np.mean(density)])\n",
    "    popt_nfw, pcov_nfw = opt.curve_fit(model_nfw, radial_fractions,\n",
    "                                       density, p0=ics_nfw, sigma=std_density)\n",
    "    radial_fit = np.linspace(np.min(radial_fractions), np.max(radial_fractions), 1000)\n",
    "    nfw_fit = model_nfw(radial_fit, popt_nfw[0], popt_nfw[1])\n",
    "    plt.errorbar(radial_fractions, density, fmt='o', yerr=std_density, label=str(i))\n",
    "    \n",
    "plt.xlabel('Radius (Mpc)', fontsize=16, fontname='serif')\n",
    "plt.ylabel(r'Density (M$_{\\odot}$ / Mpc$^3$)', fontsize=16, fontname='serif')\n",
    "plt.title(r'Radial Density Profile',\n",
    "          fontsize=16, fontname='serif')\n",
    "plt.yscale('log')\n",
    "plt.xscale('log')\n",
    "plt.legend()\n",
    "plt.show()"
   ]
  },
  {
   "cell_type": "code",
   "execution_count": 3,
   "metadata": {},
   "outputs": [
    {
     "ename": "NameError",
     "evalue": "name 'N' is not defined",
     "output_type": "error",
     "traceback": [
      "\u001b[0;31m---------------------------------------------------------------------------\u001b[0m",
      "\u001b[0;31mNameError\u001b[0m                                 Traceback (most recent call last)",
      "\u001b[0;32m<ipython-input-3-4974a4451ef4>\u001b[0m in \u001b[0;36m<module>\u001b[0;34m()\u001b[0m\n\u001b[0;32m----> 1\u001b[0;31m \u001b[0mavg_norm_radii\u001b[0m \u001b[0;34m=\u001b[0m \u001b[0mnp\u001b[0m\u001b[0;34m.\u001b[0m\u001b[0mlinspace\u001b[0m\u001b[0;34m(\u001b[0m\u001b[0;36m0.22\u001b[0m\u001b[0;34m,\u001b[0m \u001b[0;36m1.0\u001b[0m\u001b[0;34m,\u001b[0m \u001b[0mN\u001b[0m\u001b[0;34m)\u001b[0m\u001b[0;34m\u001b[0m\u001b[0m\n\u001b[0m\u001b[1;32m      2\u001b[0m \u001b[0mics_nfw\u001b[0m \u001b[0;34m=\u001b[0m \u001b[0mnp\u001b[0m\u001b[0;34m.\u001b[0m\u001b[0marray\u001b[0m\u001b[0;34m(\u001b[0m\u001b[0;34m[\u001b[0m\u001b[0;36m1.0\u001b[0m\u001b[0;34m,\u001b[0m \u001b[0;36m10.0\u001b[0m\u001b[0;34m]\u001b[0m\u001b[0;34m)\u001b[0m\u001b[0;34m\u001b[0m\u001b[0m\n\u001b[1;32m      3\u001b[0m popt_nfw, pcov_nfw = opt.curve_fit(model_nfw, avg_norm_radii,\n\u001b[1;32m      4\u001b[0m                                        avg_norm_density, p0=ics_nfw, sigma=std_norm_density)\n\u001b[1;32m      5\u001b[0m \u001b[0mics_ein\u001b[0m \u001b[0;34m=\u001b[0m \u001b[0mnp\u001b[0m\u001b[0;34m.\u001b[0m\u001b[0marray\u001b[0m\u001b[0;34m(\u001b[0m\u001b[0;34m[\u001b[0m\u001b[0mnp\u001b[0m\u001b[0;34m.\u001b[0m\u001b[0mmax\u001b[0m\u001b[0;34m(\u001b[0m\u001b[0mavg_norm_radii\u001b[0m\u001b[0;34m)\u001b[0m\u001b[0;34m,\u001b[0m \u001b[0mnp\u001b[0m\u001b[0;34m.\u001b[0m\u001b[0mmax\u001b[0m\u001b[0;34m(\u001b[0m\u001b[0mavg_norm_density\u001b[0m\u001b[0;34m)\u001b[0m\u001b[0;34m,\u001b[0m \u001b[0;36m0.16\u001b[0m\u001b[0;34m]\u001b[0m\u001b[0;34m)\u001b[0m\u001b[0;34m\u001b[0m\u001b[0m\n",
      "\u001b[0;31mNameError\u001b[0m: name 'N' is not defined"
     ]
    }
   ],
   "source": [
    "avg_norm_radii = np.linspace(0.22, 1.0, N)\n",
    "ics_nfw = np.array([1.0, 10.0])\n",
    "popt_nfw, pcov_nfw = opt.curve_fit(model_nfw, avg_norm_radii,\n",
    "                                       avg_norm_density, p0=ics_nfw, sigma=std_norm_density)\n",
    "ics_ein = np.array([np.max(avg_norm_radii), np.max(avg_norm_density), 0.16])\n",
    "popt_ein, pcov_ein = opt.curve_fit(model_einasto, avg_norm_radii,\n",
    "                                   avg_norm_density, p0=ics_ein, method='dogbox')\n",
    "ics_ein = np.array([popt_ein[0], popt_ein[1], popt_ein[2]])\n",
    "popt_ein, pcov_ein = opt.curve_fit(model_einasto, avg_norm_radii,\n",
    "                                   avg_norm_density, p0=ics_ein)\n",
    "radial_fit = np.linspace(np.min(avg_norm_radii), np.max(avg_norm_radii), 1000)\n",
    "nfw_fit = model_nfw(radial_fit, popt_nfw[0], popt_nfw[1])\n",
    "ein_fit = model_einasto(radial_fit, popt_ein[0], popt_ein[1], popt_ein[2])\n",
    "print(popt_nfw)\n",
    "print(popt_ein)"
   ]
  },
  {
   "cell_type": "code",
   "execution_count": null,
   "metadata": {},
   "outputs": [],
   "source": []
  }
 ],
 "metadata": {
  "kernelspec": {
   "display_name": "Python 3",
   "language": "python",
   "name": "python3"
  },
  "language_info": {
   "codemirror_mode": {
    "name": "ipython",
    "version": 3
   },
   "file_extension": ".py",
   "mimetype": "text/x-python",
   "name": "python",
   "nbconvert_exporter": "python",
   "pygments_lexer": "ipython3",
   "version": "3.5.4"
  }
 },
 "nbformat": 4,
 "nbformat_minor": 2
}
