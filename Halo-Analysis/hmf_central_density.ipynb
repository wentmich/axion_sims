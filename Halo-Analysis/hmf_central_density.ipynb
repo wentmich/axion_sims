{
 "cells": [
  {
   "cell_type": "code",
   "execution_count": 62,
   "metadata": {},
   "outputs": [],
   "source": [
    "import numpy as np\n",
    "import matplotlib.pyplot as plt\n",
    "import scipy.stats as stats\n",
    "from statsmodels import robust\n",
    "\n",
    "total_particle_number = 1.0e8\n",
    "PMass = 32051887299076.293 / 1.989e33 # solar masses\n",
    "Mtot = PMass * total_particle_number\n",
    "MassPerPart = PMass\n",
    "\n",
    "def load_data(PATH, time_step, num_files):\n",
    "# Loads in the data from the .particles and .ascii files at a particular output redshift/scale factor. It loads\n",
    "# the data into a particle_data and an ascii_data array which are then returned\n",
    "    for i in range(num_files):\n",
    "        print('Loading File ' + str(i))\n",
    "        if i == 0:\n",
    "            particle_data=np.loadtxt(PATH + 'halos_' + str(time_step) + '.' +\\\n",
    "                                     str(i) + '.particles',\n",
    "                                     dtype=float, delimiter=' ', comments=['#', '&'])\n",
    "            ascii_data   =np.loadtxt(PATH + 'halos_' + str(time_step) + '.' + str(i) + '.ascii',\n",
    "                                     dtype=float, delimiter=' ', comments='#')\n",
    "        else:\n",
    "            particle_data_new = np.loadtxt(PATH + 'halos_' + str(time_step) +\\\n",
    "                                           '.' + str(i) + '.particles',\n",
    "                                           dtype=float, delimiter=' ', comments=['#', '&'])\n",
    "            ascii_data_new    = np.loadtxt(PATH + 'halos_' + str(time_step) +\\\n",
    "                                           '.' + str(i) + '.ascii',\n",
    "                                           dtype=float, delimiter=' ', comments='#')\n",
    "            particle_data = np.concatenate((particle_data, particle_data_new), axis=0)\n",
    "            ascii_data    = np.concatenate((ascii_data, ascii_data_new), axis=0)\n",
    "\n",
    "    print(\"Data Loaded...\")\n",
    "    return particle_data, ascii_data;\n",
    "\n",
    "def parse_halos(ascii_data):\n",
    "# gets the number of halos in each of the halos by looking at the ascii data files about each halo\n",
    "    halo_nums = ascii_data[:, 1]\n",
    "    halo_breaks = np.empty(np.size(halo_nums) + 1)\n",
    "    for i in range(np.size(halo_breaks)):\n",
    "        halo_breaks[i] = np.sum(halo_nums[:i])\n",
    "    return halo_breaks;\n",
    "\n",
    "def get_halo_position(particle_positions):\n",
    "# gets the center of mass of the halo by calculating the mean position in the x, y, and z directions\n",
    "# and assuming all of the particles have a constant mass\n",
    "    x = np.mean(particle_positions[:, 0])\n",
    "    y = np.mean(particle_positions[:, 1])\n",
    "    z = np.mean(particle_positions[:, 2])\n",
    "    return np.array([x, y, z]);\n",
    "\n",
    "def get_separations(particle_positions, halo_position):\n",
    "# gets the separation of each particle from the center. This will then tell you what fraction are within\n",
    "# a certain radius\n",
    "    separations = np.zeros(np.shape(particle_positions)[0])\n",
    "    for i in range(np.shape(particle_positions)[0]):\n",
    "        separations[i] = np.linalg.norm(particle_positions[i, :] - halo_position)\n",
    "    return separations;\n",
    "\n",
    "def make_histogram(array, Nbins):\n",
    "# makes a histogram of the data. This is a useless function\n",
    "    hist, bins = np.histogram(array, bins=np.logspace(np.log10(np.min(array)),\n",
    "                            np.log10(np.max(array)),Nbins))\n",
    "    return hist, bins;\n",
    "\n",
    "def hmf(hist, bins):\n",
    "# this gets the actually useful quantities for the HMF including dn_dlogM and the errors in these measurements\n",
    "# the errors are currently calculated using sqrt(N) approximation. This is going to be changed later on.\n",
    "    dn_dlogM  = np.zeros(np.shape(hist))\n",
    "    df_dlogM  = np.zeros(np.shape(hist))\n",
    "    masses    = np.zeros(np.shape(hist))\n",
    "    errors_dn = np.zeros(np.shape(hist))\n",
    "    errors_df = np.zeros(np.shape(hist))\n",
    "    for i in range(len(hist)):\n",
    "        dlogM = (np.log10(bins[i+1]) - np.log10(bins[i]))\n",
    "        dn_dlogM[i] = hist[i] / dlogM\n",
    "        masses[i] = 0.5 * (bins[i+1] + bins[i])\n",
    "        df_dlogM[i] = masses[i] * dn_dlogM[i] / Mtot\n",
    "        errors_dn[i] = np.sqrt(hist[i]) / dlogM\n",
    "        errors_df[i] = masses[i] * errors_dn[i] / Mtot\n",
    "    \n",
    "    return masses, dn_dlogM, errors_dn, df_dlogM, errors_df;\n",
    "\n",
    "def get_density_profile(particle_data, ascii_data, halo_breaks, halo_id, N):\n",
    "# The radial density profile for the given halo is caluclated using the fraction of the particles (and thereby\n",
    "# the fraction of the mass) contained within a particular radius.\n",
    "    # get data for the halo you chose\n",
    "    break1 = int(halo_breaks[halo_id])\n",
    "    break2 = int(halo_breaks[halo_id + 1])\n",
    "    halo_particles = particle_data[break1:break2, 0:3]\n",
    "    halo_position  = get_halo_position(halo_particles)\n",
    "    displacements  = get_separations(halo_particles, halo_position)\n",
    "    if len(displacements) == 0:\n",
    "        return np.zeros(N), np.zeros(N), 0.0, 0.0, 0.0;\n",
    "    radius = np.max(displacements)\n",
    "    half_mass_radius = ascii_data[halo_id, 48]\n",
    "    \n",
    "    fractions = np.linspace(0.1, 1.0, N)\n",
    "    radial_fractions = fractions * radius \n",
    "    # gives an array of 10%, 20%, ..., 90%, 100% of the halo radius\n",
    "    radial_counts = np.zeros(N)\n",
    "    for i in range(0, N):\n",
    "        counts = 0\n",
    "        for j in range(len(displacements)):\n",
    "            if displacements[j] <= radial_fractions[i]:\n",
    "                counts += 1\n",
    "        radial_counts[i] = counts\n",
    "    densities = radial_counts * MassPerPart / (4 * np.pi * radial_fractions**3 / 3)\n",
    "    std_density = np.sqrt(radial_counts) * MassPerPart / (4 * np.pi * radial_fractions**3 / 3)\n",
    "    normalized_counts = radial_counts / len(displacements)\n",
    "    \n",
    "    return radial_fractions, densities, radius, std_density;"
   ]
  },
  {
   "cell_type": "code",
   "execution_count": 63,
   "metadata": {},
   "outputs": [
    {
     "name": "stdout",
     "output_type": "stream",
     "text": [
      "Loading File 0\n",
      "Loading File 1\n",
      "Loading File 2\n",
      "Loading File 3\n",
      "Loading File 4\n",
      "Loading File 5\n",
      "Loading File 6\n",
      "Loading File 7\n",
      "Loading File 8\n",
      "Loading File 9\n",
      "Loading File 10\n",
      "Loading File 11\n",
      "Loading File 12\n",
      "Loading File 13\n",
      "Loading File 14\n",
      "Loading File 15\n",
      "Data Loaded...\n"
     ]
    }
   ],
   "source": [
    "# Load in the data for file number \"time\" and load in the first \"N\" files corresponding to that redshift\n",
    "PATH = '/scratch/bsafdi_root/bsafdi/wentmich/halos/'\n",
    "time, N = 28, 16\n",
    "particle_data, ascii_data = load_data(PATH, time, N)"
   ]
  },
  {
   "cell_type": "code",
   "execution_count": 69,
   "metadata": {},
   "outputs": [
    {
     "name": "stdout",
     "output_type": "stream",
     "text": [
      "(107166451, 10)\n",
      "Count = 52833579\n",
      "1709\n"
     ]
    }
   ],
   "source": [
    "print(np.shape(particle_data))\n",
    "count = 0\n",
    "for i in range(np.shape(particle_data)[0]):\n",
    "    if particle_data[i, -2] != particle_data[i, -3]:\n",
    "        count += 1\n",
    "print('Count = ' + str(count))\n",
    "zero_ids = []\n",
    "for i in range(np.shape(ascii_data)[0]):\n",
    "    if ascii_data[i, 1] < 20:\n",
    "        zero_ids.append(ascii_data[i, 0])\n",
    "print(len(zero_ids))"
   ]
  },
  {
   "cell_type": "code",
   "execution_count": 65,
   "metadata": {},
   "outputs": [
    {
     "name": "stdout",
     "output_type": "stream",
     "text": [
      "halos broken down...\n"
     ]
    }
   ],
   "source": [
    "halo_breaks = parse_halos(ascii_data)\n",
    "print('halos broken down...')"
   ]
  },
  {
   "cell_type": "code",
   "execution_count": 66,
   "metadata": {},
   "outputs": [
    {
     "name": "stdout",
     "output_type": "stream",
     "text": [
      "Halos counted...\n",
      "Total number of halos = 268462\n",
      "Halos histogrammed...\n"
     ]
    },
    {
     "data": {
      "image/png": "[encoded data removed]",
      "text/plain": [
       "<Figure size 720x504 with 1 Axes>"
      ]
     },
     "metadata": {
      "needs_background": "light"
     },
     "output_type": "display_data"
    }
   ],
   "source": [
    "Nbins = 20 # number of bins in the histogram w.r.t. the halo masses\n",
    "Nmin = 20 # minimum number of particles per halo\n",
    "\n",
    "# This bit gets rid of any halos that have fewer than Nmin particles.\n",
    "halo_counts = ascii_data[:, 1]\n",
    "i = 0\n",
    "while i < len(halo_counts):\n",
    "    if halo_counts[i] < Nmin:\n",
    "        halo_counts = np.delete(halo_counts, i)\n",
    "    else:\n",
    "        i += 1\n",
    "print('Halos counted...')\n",
    "\n",
    "Nhalos = np.size(halo_counts)\n",
    "print('Total number of halos = ' + str(Nhalos))\n",
    "\n",
    "# Now we histogram the halos according to their masses and create a HMF using the histogram\n",
    "histogram, bins = make_histogram(halo_counts * PMass, Nbins)\n",
    "masses, dn_dlogM, errors_dn, df_dlogM, errors_df = hmf(histogram, bins)\n",
    "print('Halos histogrammed...')\n",
    "\n",
    "# Plots the HMF from above\n",
    "plt.figure(figsize=(10, 7))\n",
    "plt.errorbar(masses, dn_dlogM, yerr=errors_dn, fmt='o', capsize=5, label='z = %.01f' % 692.4)\n",
    "plt.yscale('log')\n",
    "plt.xscale('log')\n",
    "plt.xlabel(r'Halo Mass ($M_{\\odot}$)', fontsize=16, fontname='serif')\n",
    "plt.ylabel(r'dn / dlog(M)', fontsize=16, fontname='serif')\n",
    "plt.title(r'Evolution of Halo Mass Function', fontsize=16, fontname='serif')\n",
    "plt.legend(fontsize=16)\n",
    "plt.show()"
   ]
  },
  {
   "cell_type": "code",
   "execution_count": 67,
   "metadata": {},
   "outputs": [
    {
     "name": "stdout",
     "output_type": "stream",
     "text": [
      "[2.00000e+01 2.00000e+01 2.00000e+01 ... 2.98674e+05 3.00371e+05\n",
      " 4.28666e+05]\n"
     ]
    }
   ],
   "source": [
    "sorted_halo_counts = sorted(list(halo_counts))\n",
    "print(np.array(sorted_halo_counts))"
   ]
  },
  {
   "cell_type": "code",
   "execution_count": 72,
   "metadata": {},
   "outputs": [
    {
     "name": "stdout",
     "output_type": "stream",
     "text": [
      "Done with halo 0\n",
      "Done with halo 100000\n",
      "Done with halo 200000\n",
      "Central densities found...\n"
     ]
    }
   ],
   "source": [
    "# This is the new stuff. The idea is to calculate the density profile for each of the halos that have so far\n",
    "# been loaded in. \n",
    "masses_and_central_densities = np.zeros([2, Nhalos])\n",
    "zeros = 0\n",
    "for i in range(np.shape(ascii_data)[0]):\n",
    "    if ascii_data[i, 1] >= Nmin:\n",
    "        halo_mass = ascii_data[i, 1] * PMass\n",
    "        results = get_density_profile(particle_data, ascii_data, halo_breaks, i, 10)\n",
    "        densities = results[1]\n",
    "        masses_and_central_densities[0, i - zeros] = halo_mass\n",
    "        masses_and_central_densities[1, i - zeros] = densities[0]\n",
    "    else:\n",
    "        zeros += 1\n",
    "    if i%100000 == 0:\n",
    "        print('Done with halo ' + str(i))\n",
    "print('Central densities found...')"
   ]
  },
  {
   "cell_type": "code",
   "execution_count": 73,
   "metadata": {},
   "outputs": [
    {
     "name": "stdout",
     "output_type": "stream",
     "text": [
      "[7.48314480e+12 2.41968708e+13 0.00000000e+00 ... 5.95958357e+11\n",
      " 2.84305596e+11 9.08832728e+11]\n"
     ]
    }
   ],
   "source": [
    "print(masses_and_central_densities[1, :])"
   ]
  },
  {
   "cell_type": "code",
   "execution_count": 74,
   "metadata": {},
   "outputs": [
    {
     "name": "stdout",
     "output_type": "stream",
     "text": [
      "6.907769894894841e-15\n",
      "3.222914761093644e-19\n",
      "[7.48314480e+12 2.41968708e+13 0.00000000e+00 ... 5.95958357e+11\n",
      " 2.84305596e+11 9.08832728e+11]\n"
     ]
    },
    {
     "data": {
      "image/png": "[encoded data removed]",
      "text/plain": [
       "<Figure size 432x288 with 1 Axes>"
      ]
     },
     "metadata": {
      "needs_background": "light"
     },
     "output_type": "display_data"
    },
    {
     "name": "stdout",
     "output_type": "stream",
     "text": [
      "268462\n"
     ]
    }
   ],
   "source": [
    "print(np.max(masses_and_central_densities[0, :]))\n",
    "print(np.min(masses_and_central_densities[0, :]))\n",
    "print(masses_and_central_densities[1, :])\n",
    "plt.plot(masses_and_central_densities[0, :], masses_and_central_densities[1, :], 'o')\n",
    "plt.xscale('log')\n",
    "plt.show()\n",
    "\n",
    "print(np.shape(masses_and_central_densities)[1])"
   ]
  },
  {
   "cell_type": "code",
   "execution_count": 75,
   "metadata": {},
   "outputs": [],
   "source": [
    "# we need to make to histogram the masses and then separate the central densities in terms of this mass histogram\n",
    "average_central_densities = np.empty(Nbins - 1)\n",
    "median_central_densities = np.empty(Nbins - 1)\n",
    "std_central_densities = np.empty(Nbins - 1)\n",
    "mad_central_densities = np.empty(Nbins - 1)\n",
    "\n",
    "for i in range(Nbins - 1):\n",
    "    central_densities = []\n",
    "    for j in range(np.shape(masses_and_central_densities)[1]):\n",
    "        if masses_and_central_densities[0, j] < bins[i + 1] and masses_and_central_densities[0, j] > bins[i]:\n",
    "            central_densities.append(masses_and_central_densities[1, j])\n",
    "\n",
    "    average_central_densities[i] = np.mean(np.array(central_densities))\n",
    "    median_central_densities[i] = np.median(np.array(central_densities))\n",
    "    std_central_densities[i] = np.std(np.array(central_densities))\n",
    "    mad_central_densities[i] = robust.mad(np.array(central_densities))"
   ]
  },
  {
   "cell_type": "code",
   "execution_count": 88,
   "metadata": {},
   "outputs": [
    {
     "data": {
      "image/png": "[encoded data removed]",
      "text/plain": [
       "<Figure size 720x504 with 2 Axes>"
      ]
     },
     "metadata": {
      "needs_background": "light"
     },
     "output_type": "display_data"
    }
   ],
   "source": [
    "fig, ax1 = plt.subplots(figsize=(10, 7))\n",
    "\n",
    "color = 'tab:blue'\n",
    "ax1.set_xlabel(r'Halo Mass ($M_{\\odot}$)', fontsize=16, fontname='serif')\n",
    "ax1.set_ylabel(r'dn / dlog(M)', fontsize=16, fontname='serif')\n",
    "ax1.errorbar(masses, dn_dlogM, yerr=errors_dn, fmt='o', color='C0', capsize=5, label='HMF')\n",
    "ax1.tick_params(axis='y', labelcolor='C0')\n",
    "ax1.set_xscale('log')\n",
    "ax1.set_yscale('log')\n",
    "#ax1.set_xticklabels(fontsize=16)\n",
    "\n",
    "color = 'tab:red'\n",
    "ax2 = ax1.twinx()\n",
    "ax2.set_ylabel(r'Central Density ($M_{\\odot}$ / Mpc)', fontsize=16, fontname='serif')\n",
    "#ax2.errorbar(masses, median_central_densities, yerr=mad_central_densities, fmt='o',\n",
    "#             color='C1', capsize=5, label='Median Central Density')\n",
    "#ax2.errorbar(masses, average_central_densities, yerr=std_central_densities, fmt='o',\n",
    "#             color='C2', capsize=5, label='Mean Central Density')\n",
    "ax2.plot(masses[:-1], median_central_densities[:-1], 'o',\n",
    "             color='C1', label='Median Central Density')\n",
    "ax2.plot(masses[:-1], average_central_densities[:-1], 'o',\n",
    "             color='C2', label='Mean Central Density')\n",
    "ax2.tick_params(axis='y', labelcolor='red')\n",
    "\n",
    "#plt.legend(fontsize=16)\n",
    "fig.legend(fontsize=16, bbox_to_anchor=(0.5, 0.45, 0.43, 0.5))\n",
    "fig.tight_layout()\n",
    "plt.savefig('hmf_central_density.png', dpi=1000)\n",
    "plt.show()"
   ]
  },
  {
   "cell_type": "code",
   "execution_count": null,
   "metadata": {},
   "outputs": [],
   "source": []
  }
 ],
 "metadata": {
  "kernelspec": {
   "display_name": "Python 3",
   "language": "python",
   "name": "python3"
  },
  "language_info": {
   "codemirror_mode": {
    "name": "ipython",
    "version": 3
   },
   "file_extension": ".py",
   "mimetype": "text/x-python",
   "name": "python",
   "nbconvert_exporter": "python",
   "pygments_lexer": "ipython3",
   "version": "3.7.3"
  }
 },
 "nbformat": 4,
 "nbformat_minor": 2
}
