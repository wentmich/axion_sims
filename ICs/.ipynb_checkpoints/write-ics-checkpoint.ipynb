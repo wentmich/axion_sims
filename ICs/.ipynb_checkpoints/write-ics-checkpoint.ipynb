{
 "cells": [
  {
   "cell_type": "code",
   "execution_count": 1,
   "metadata": {},
   "outputs": [],
   "source": [
    "####################################################################\n",
    "# Read in the axion field and axion field derivative               #\n",
    "# data and makes a discrete initial state given the density field. #\n",
    "# The initial state is then written to a series of files txt files #\n",
    "# which can be read and written to snapshot files.                 #\n",
    "# Velocities are all (0, 0, 0).                                    #\n",
    "#                                                                  #\n",
    "# Malte Buschmann, Michael Wentzel                                 #\n",
    "# Last Update: 14 August 2019                                      #\n",
    "####################################################################\n",
    "\n",
    "%matplotlib inline\n",
    "%load_ext autoreload\n",
    "%autoreload 2\n",
    "\n",
    "import sys,os\n",
    "import re\n",
    "import numpy as np\n",
    "\n",
    "import matplotlib.pyplot as plt\n",
    "import matplotlib.cm as cm\n",
    "from matplotlib import rc\n",
    "from matplotlib import rcParams\n",
    "import matplotlib.colors as colors\n",
    "\n",
    "import h5py\n",
    "import random\n",
    "from timeit import default_timer as timer\n",
    "\n",
    "from collections import Counter"
   ]
  },
  {
   "cell_type": "code",
   "execution_count": 2,
   "metadata": {},
   "outputs": [
    {
     "name": "stdout",
     "output_type": "stream",
     "text": [
      "1.3289036544850497e+24 2.3468238178122525e+72 262629.18072827073\n"
     ]
    }
   ],
   "source": [
    "# Set some physical constants\n",
    "R1 = 5.46e-14\n",
    "H1 = 3.01e-9 * 1e-9 # GeV\n",
    "eta=1e6\n",
    "L = 4.*eta/(H1) # 1/GeV\n",
    "V = L**3 # 1/GeV^3\n",
    "Lkm = L/5.06e13 * 1e-5 # km\n",
    "PATH = '/scratch/bsafdi_flux/wentmich/Axion_Structure_Sims/miniclustersICs/ics/'\n",
    "\n",
    "# Set the random seed\n",
    "random.seed(123)\n",
    "print(L, V, Lkm)"
   ]
  },
  {
   "cell_type": "code",
   "execution_count": null,
   "metadata": {},
   "outputs": [],
   "source": [
    "# Read in field and derivative data, then make density field\n",
    "file = h5py.File('/nfs/turbo/bsafdi/wentmich/Axion_Structure_Sims/miniclustersICs/axion_field/Field_Data.hdf5','r')\n",
    "dataset = file['Axion_Field']\n",
    "field = dataset[:]\n",
    "file.close()\n",
    "\n",
    "file = h5py.File('/nfs/turbo/bsafdi/wentmich/Axion_Structure_Sims/miniclustersICs/axion_field/First_Deriv_Data.hdf5','r')\n",
    "dataset = file['Axion_Field_First_Derivative']\n",
    "deriv = dataset[:]\n",
    "file.close()\n",
    "\n",
    "#file = h5py.File('axion_field/Second_Deriv_Data.hdf5', 'r')\n",
    "#dataset = file['Axion_Field_First_Derivative']\n",
    "#deriv2 = dataset[:]\n",
    "#file.close()\n",
    "\n",
    "ma = 25.2e-6 * 1e-9 #GeV\n",
    "fa = 2.26e11  #GeV\n",
    "AbundanceCorrection = 1.04e-2\n",
    "\n",
    "rho = ma**2*fa**2/2. * AbundanceCorrection * (deriv**2/(3.6**6.68 * 1e6**2) + field**2)\n",
    "del file, dataset, deriv, field"
   ]
  },
  {
   "cell_type": "code",
   "execution_count": 30,
   "metadata": {},
   "outputs": [
    {
     "name": "stderr",
     "output_type": "stream",
     "text": [
      "/sw/lsa/centos7/python-anaconda3/2019.03/lib/python3.7/site-packages/ipykernel_launcher.py:7: DeprecationWarning: object of type <class 'float'> cannot be safely interpreted as an integer.\n",
      "  import sys\n"
     ]
    },
    {
     "name": "stdout",
     "output_type": "stream",
     "text": [
      "[  0 128 256]\n",
      "Mtot = 1.2891659044374576e-10\n",
      "MassPerPart = 5187287628093420.0\n",
      "640000.0\n"
     ]
    }
   ],
   "source": [
    "# Starting here, there will be a for-loop that will write files for each of the\n",
    "# partial density fields to get the entire initial state written to separate files.\n",
    "Ngrid_min = 0  # probably shouldn't change this, I'm not sure what happens if you do\n",
    "Ngrid_max = 256  # ideally, this should be perfectly fine to change\n",
    "Nfiles = 8 #0**3.0 # must be a perfect cube\n",
    "Npart = 6.4e5 #Ngrid_max**3.0 * 1.0e9 / 1024**3.0 # gives the number of particles to have full resolution\n",
    "Ngrid = np.linspace(Ngrid_min, Ngrid_max, Nfiles**(1.0/3.0) + 1, dtype=int)\n",
    "if len(Ngrid) > 1:\n",
    "    dNgrid = Ngrid[1] - Ngrid[0]\n",
    "else:\n",
    "    dNgrid = dNgrid[0]\n",
    "print(Ngrid)\n",
    "\n",
    "Mtot = np.mean(rho) * V * 8.96515e-58\n",
    "MassPerPart = np.mean(rho[0:Ngrid_max, 0:Ngrid_max, 0:Ngrid_max]) * V * (float(Ngrid_max) / 1024)**3 * 8.96515e-58 / Npart\n",
    "print('Mtot = ' + str(Mtot))\n",
    "print('MassPerPart = ' + str(MassPerPart * 1.989e33))\n",
    "print(Npart)"
   ]
  },
  {
   "cell_type": "code",
   "execution_count": 31,
   "metadata": {},
   "outputs": [],
   "source": [
    "# Write a file for each of the total Nfiles files\n",
    "rhoLocal = rho[Ngrid_min:Ngrid_max, Ngrid_min:Ngrid_max, Ngrid_min:Ngrid_max]\n",
    "rhoLines = np.empty((Ngrid_max - Ngrid_min, Ngrid_max - Ngrid_min))\n",
    "rhoPlanes = np.empty(Ngrid_max - Ngrid_min)\n",
    "rhoGrid = np.cumsum(rhoLocal, axis=2)\n",
    "for p in range(Ngrid_max - Ngrid_min):\n",
    "    for q in range(Ngrid_max - Ngrid_min):\n",
    "        rhoLines[p, q] = rhoGrid[p, q, -1]\n",
    "rhoLines = np.cumsum(rhoLines, axis = 1)\n",
    "for p in range(Ngrid_max - Ngrid_min):\n",
    "    rhoPlanes[p] = rhoLines[p, -1]\n",
    "rhoPlanes = np.cumsum(rhoPlanes)"
   ]
  },
  {
   "cell_type": "code",
   "execution_count": 32,
   "metadata": {},
   "outputs": [
    {
     "name": "stdout",
     "output_type": "stream",
     "text": [
      "Done with file 0...\n"
     ]
    }
   ],
   "source": [
    "file_number = 0\n",
    "while file_number < Nfiles:\n",
    "    N = int(Npart / Nfiles)\n",
    "    pos = np.zeros((N,3))\n",
    "    xoff = np.random.random(N)\n",
    "    yoff = np.random.random(N)\n",
    "    zoff = np.random.random(N)\n",
    "    \n",
    "    prob1 = np.random.random(N)*rhoPlanes[-1] #get Npart random values between 0 and the total summed density\n",
    "    locs1 = np.searchsorted(rhoPlanes,prob1) # returns indices to place these random density values\n",
    "    c1 = Counter(locs1) # counts how many times each index is repeated\n",
    "    Ncreated = 0 # number of particles created\n",
    "\n",
    "    for i in range(Ngrid_max):\n",
    "        if c1[i]>0: # if there is at least one particle that should be placed at index i\n",
    "            prob2 = np.random.random(c1[i])*rhoLines[i,-1]\n",
    "            locs2 = np.searchsorted(rhoLines[i,:],prob2)\n",
    "            c2 = Counter(locs2)\n",
    "            for j in range(Ngrid_max):\n",
    "                if c2[j]>0:\n",
    "                    prob3 = np.random.random(c2[j])*rhoGrid[i,j,-1]\n",
    "                    locs3 = np.searchsorted(rhoGrid[i,j,:],prob3)\n",
    "                    for p in range(len(locs3)):\n",
    "                        px = float(i) + xoff[Ncreated] \n",
    "                        py = float(j) + yoff[Ncreated] \n",
    "                        pz = float(locs3[p]) + zoff[Ncreated] \n",
    "                        pos[Ncreated] = [px,py,pz]#[int(px),int(py),int(pz)]\n",
    "                        Ncreated = Ncreated+1\n",
    "                    \n",
    "    pos = np.array(pos)\n",
    "    # Write partial initial state to txt file\n",
    "    f = open(PATH + \"ics.\" + str(file_number) + \".txt\", \"w\")\n",
    "    #print(N)\n",
    "    for n in range(N):\n",
    "        f.write(str((pos[n,0] * Lkm * 1.0e5) / 1024.0) + \"\\t\" + \n",
    "                str((pos[n,1] * Lkm * 1.0e5) / 1024.0) + \"\\t\" + \n",
    "                str((pos[n,2] * Lkm * 1.0e5) / 1024.0) + \"\\t\" +\n",
    "                str(0.0)+\"\\t\"+str(0.0)+\"\\t\"+str(0.0) + \"\\t\" +\n",
    "                str(MassPerPart)+\"\\n\")\n",
    "    f.close()\n",
    "    if file_number % 10 == 0:\n",
    "        print('Done with file ' + str(file_number) + '...')\n",
    "    file_number += 1"
   ]
  },
  {
   "cell_type": "code",
   "execution_count": 33,
   "metadata": {},
   "outputs": [
    {
     "name": "stdout",
     "output_type": "stream",
     "text": [
      "N_FULL = 640000\n",
      "cfact = 18444287.594869133\n",
      "NFILES = 8\n",
      "N_PARTICLES = 80000\n",
      "Particle Mass: 5187287628093420.0 g\n",
      "Length: 6565729518.206768\n",
      "\n",
      "\n",
      "\n",
      "\n",
      "Omega0: 0.31000000000000083\n",
      "Box Size = 1.2110020350392718e+17\n"
     ]
    }
   ],
   "source": [
    "H0 = 3.2407789e-18 * 0.5665\n",
    "G = 6.672e-8\n",
    "box_length = Lkm * 1.0e5 * (float(Ngrid_max) / 1024)\n",
    "c = ((8.0 * np.pi * G * MassPerPart * Npart * 1.989e33) /\n",
    "     (3.0 * H0**2 * box_length**3 * 0.31))**(1.0 / 3.0)\n",
    "\n",
    "print('N_FULL = ' + str(int(Npart / Nfiles) * Nfiles))\n",
    "print('cfact = ' + str(c))\n",
    "print('NFILES = ' + str(Nfiles))\n",
    "print('N_PARTICLES = ' + str(int(Npart / Nfiles)))\n",
    "print(\"Particle Mass: \" + str(MassPerPart * 1.989e33) + ' g')\n",
    "print('Length: ' + str(box_length))\n",
    "print('\\n\\n\\n')\n",
    "Omega = (MassPerPart * 1.989e33 * Npart / (c * box_length)**3) * (8 * np.pi * G / (3 * H0**2))\n",
    "print('Omega0: ' + str(Omega))\n",
    "print('Box Size = ' + str(box_length * c))"
   ]
  }
 ],
 "metadata": {
  "kernelspec": {
   "display_name": "Python 3",
   "language": "python",
   "name": "python3"
  },
  "language_info": {
   "codemirror_mode": {
    "name": "ipython",
    "version": 3
   },
   "file_extension": ".py",
   "mimetype": "text/x-python",
   "name": "python",
   "nbconvert_exporter": "python",
   "pygments_lexer": "ipython3",
   "version": "3.5.4"
  }
 },
 "nbformat": 4,
 "nbformat_minor": 2
}
